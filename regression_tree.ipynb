{
  "cells": [
    {
      "cell_type": "markdown",
      "metadata": {
        "id": "view-in-github",
        "colab_type": "text"
      },
      "source": [
        "<a href=\"https://colab.research.google.com/github/Griffin-lbsia/Data--Science-and-ML/blob/main/regression_tree.ipynb\" target=\"_parent\"><img src=\"https://colab.research.google.com/assets/colab-badge.svg\" alt=\"Open In Colab\"/></a>"
      ]
    },
    {
      "cell_type": "markdown",
      "metadata": {
        "id": "2c3207da-8d64-4590-b51f-dee8ce4ecba9"
      },
      "source": [
        "<center>\n",
        "    <img src=\"https://cf-courses-data.s3.us.cloud-object-storage.appdomain.cloud/assets/logos/SN_web_lightmode.png\" width=\"300\" alt=\"cognitiveclass.ai logo\">\n",
        "</center>\n"
      ]
    },
    {
      "cell_type": "markdown",
      "metadata": {
        "id": "60a0d89c-1c35-4207-9d19-01a89f3858a3"
      },
      "source": [
        "# **Taxi Tip Prediction using Scikit-Learn and Snap ML**\n"
      ]
    },
    {
      "cell_type": "markdown",
      "metadata": {
        "id": "7042fb2f-8729-4e2b-ba4e-c0661a0b0287"
      },
      "source": [
        "Estimated time needed: **30** minutes\n"
      ]
    },
    {
      "cell_type": "markdown",
      "metadata": {
        "id": "9693efe7-6155-45aa-88bf-24324ad6c2e6"
      },
      "source": [
        "In this exercise session you will consolidate your machine learning (ML) modeling skills by using a popular regression model: Decision Tree. You will use a real dataset to train such a model. The dataset includes information about taxi tip and was collected and provided to the NYC Taxi and Limousine Commission (TLC) by technology providers authorized under the Taxicab & Livery Passenger Enhancement Programs (TPEP/LPEP). You will use the trained model to predict the amount of tip paid.\n",
        "\n",
        "In the current exercise session, you will practice not only the Scikit-Learn Python interface, but also the Python API offered by the Snap Machine Learning (Snap ML) library. Snap ML is a high-performance IBM library for ML modeling. It provides highly-efficient CPU/GPU implementations of linear models and tree-based models. Snap ML not only accelerates ML algorithms through system awareness, but it also offers novel ML algorithms with best-in-class accuracy. For more information, please visit [snapml](https://ibm.biz/BdPfxy) information page.\n"
      ]
    },
    {
      "cell_type": "markdown",
      "metadata": {
        "id": "2eca9d2b-97fe-44b7-a997-3731a8359775"
      },
      "source": [
        "## Objectives\n"
      ]
    },
    {
      "cell_type": "markdown",
      "metadata": {
        "id": "53bb28cf-ccdd-458b-b74c-589053005000"
      },
      "source": [
        "After completing this lab you will be able to:\n"
      ]
    },
    {
      "cell_type": "markdown",
      "metadata": {
        "id": "38a4906d-4165-45e9-93a9-a7b04b6cc3c7"
      },
      "source": [
        "* Perform basic data preprocessing using Scikit-Learn\n",
        "* Model a regression task using the Scikit-Learn and Snap ML Python APIs\n",
        "* Train a Decision Tree Regressor model using Scikit-Learn and Snap ML\n",
        "* Run inference and assess the quality of the trained models\n"
      ]
    },
    {
      "cell_type": "markdown",
      "metadata": {
        "id": "c2d86e14-9a38-489c-b9e8-b32c9b43919d"
      },
      "source": [
        "## Table of Contents\n"
      ]
    },
    {
      "cell_type": "markdown",
      "metadata": {
        "id": "d07d873f-e12f-421e-953c-fddc7326d177"
      },
      "source": [
        "<div class=\"alert alert-block alert-info\" style=\"margin-top: 10px\">\n",
        "    <ol>\n",
        "        <li><a href=\"#introduction\">Introduction</a></li>\n",
        "        <li><a href=\"#import_libraries\">Import Libraries</a></li>\n",
        "        <li><a href=\"#dataset_analysis\">Dataset Analysis</a></li>\n",
        "        <li><a href=\"#dataset_preprocessing\">Dataset Preprocessing</a></li>\n",
        "        <li><a href=\"#dataset_split\">Dataset Train/Test Split</a></li>\n",
        "        <li><a href=\"#dt_sklearn\">Build a Decision Tree Regressor model with Scikit-Learn</a></li>\n",
        "        <li><a href=\"#dt_snap\">Build a Decision Tree Regressor model with Snap ML</a></li>\n",
        "        <li><a href=\"#dt_sklearn_snap\">Evaluate the Scikit-Learn and Snap ML Decision Tree Regressors</a></li>\n",
        "    </ol>\n",
        "</div>\n",
        "<br>\n",
        "<hr>\n"
      ]
    },
    {
      "cell_type": "markdown",
      "metadata": {
        "id": "b44eccbd-a975-4eb8-a026-559f40673b4a"
      },
      "source": [
        "<div id=\"Introduction\">\n",
        "    <h2>Introduction</h2>\n",
        "    <br>The dataset used in this exercise session is publicly available here: https://www1.nyc.gov/site/tlc/about/tlc-trip-record-data.page (all rights reserved by Taxi & Limousine Commission(TLC), City of New York). The TLC Yellow Taxi Trip Records of June, 2019 are used in this notebook. The prediction of the tip amount can be modeled as a regression problem. To train the model you can use part of the input dataset and the remaining data can be used to assess the quality of the trained model. First, let's download the dataset.\n",
        "    <br>\n",
        "</div>\n"
      ]
    },
    {
      "cell_type": "code",
      "metadata": {
        "colab": {
          "base_uri": "https://localhost:8080/"
        },
        "id": "16234833-d58c-4275-bf38-3c63c804efce",
        "outputId": "56ff8878-3d39-45c0-9d50-d57ae4062af7"
      },
      "outputs": [
        {
          "output_type": "stream",
          "name": "stdout",
          "text": [
            "--2024-06-11 07:24:33--  https://cf-courses-data.s3.us.cloud-object-storage.appdomain.cloud/IBMDeveloperSkillsNetwork-ML0101EN-SkillsNetwork/labs/Module%203/data/yellow_tripdata_2019-06.csv\n",
            "Resolving cf-courses-data.s3.us.cloud-object-storage.appdomain.cloud (cf-courses-data.s3.us.cloud-object-storage.appdomain.cloud)... 169.63.118.104\n",
            "Connecting to cf-courses-data.s3.us.cloud-object-storage.appdomain.cloud (cf-courses-data.s3.us.cloud-object-storage.appdomain.cloud)|169.63.118.104|:443... connected.\n",
            "HTTP request sent, awaiting response... 200 OK\n",
            "Length: 364904448 (348M) [text/csv]\n",
            "Saving to: ‘yellow_tripdata_2019-06.csv’\n",
            "\n",
            "yellow_tripdata_201 100%[===================>] 348.00M  43.4MB/s    in 8.4s    \n",
            "\n",
            "2024-06-11 07:24:42 (41.6 MB/s) - ‘yellow_tripdata_2019-06.csv’ saved [364904448/364904448]\n",
            "\n"
          ]
        }
      ],
      "source": [
        "# download June 2020 TLC Yellow Taxi Trip records\n",
        "# !wget -nc https://s3.amazonaws.com/nyc-tlc/trip+data/yellow_tripdata_2019-06.csv\n",
        "!wget https://cf-courses-data.s3.us.cloud-object-storage.appdomain.cloud/IBMDeveloperSkillsNetwork-ML0101EN-SkillsNetwork/labs/Module%203/data/yellow_tripdata_2019-06.csv"
      ],
      "execution_count": 1
    },
    {
      "cell_type": "markdown",
      "metadata": {
        "id": "9cf199bb-90e3-4226-bca8-65f02dff7c94"
      },
      "source": [
        "__Did you know?__ When it comes to Machine Learning, you will most likely be working with large datasets. As a business, where can you host your data? IBM is offering a unique opportunity for businesses, with 10 Tb of IBM Cloud Object Storage: [Sign up now for free](https://ibm.biz/BdPfxf)\n"
      ]
    },
    {
      "cell_type": "markdown",
      "metadata": {
        "id": "0e720ac9-c78f-4934-b9ee-39499ac8b45e"
      },
      "source": [
        "<div id=\"import_libraries\">\n",
        "    <h2>Import Libraries</h2>\n",
        "</div>\n"
      ]
    },
    {
      "cell_type": "code",
      "metadata": {
        "colab": {
          "base_uri": "https://localhost:8080/"
        },
        "id": "519b5e64-e01a-4452-8364-f2399f89dc63",
        "outputId": "36a42048-e71b-4aa5-fca6-133d176792cb"
      },
      "outputs": [
        {
          "output_type": "stream",
          "name": "stdout",
          "text": [
            "Collecting snapml\n",
            "  Downloading snapml-1.15.6-cp310-cp310-manylinux_2_28_x86_64.whl (7.8 MB)\n",
            "\u001b[2K     \u001b[90m━━━━━━━━━━━━━━━━━━━━━━━━━━━━━━━━━━━━━━━━\u001b[0m \u001b[32m7.8/7.8 MB\u001b[0m \u001b[31m2.3 MB/s\u001b[0m eta \u001b[36m0:00:00\u001b[0m\n",
            "\u001b[?25hRequirement already satisfied: scikit-learn in /usr/local/lib/python3.10/dist-packages (from snapml) (1.2.2)\n",
            "Requirement already satisfied: scipy in /usr/local/lib/python3.10/dist-packages (from snapml) (1.11.4)\n",
            "Requirement already satisfied: numpy>=1.21.3 in /usr/local/lib/python3.10/dist-packages (from snapml) (1.25.2)\n",
            "Requirement already satisfied: joblib>=1.1.1 in /usr/local/lib/python3.10/dist-packages (from scikit-learn->snapml) (1.4.2)\n",
            "Requirement already satisfied: threadpoolctl>=2.0.0 in /usr/local/lib/python3.10/dist-packages (from scikit-learn->snapml) (3.5.0)\n"
          ]
        }
      ],
      "source": [
        "# Snap ML is available on PyPI. To install it simply run the pip command below.\n",
        "!pip install snapml"
      ],
      "execution_count": null
    },
    {
      "cell_type": "code",
      "metadata": {
        "id": "1d4a40d7-89b7-4d4e-b558-49f3bba92e13"
      },
      "outputs": [],
      "source": [
        "# Import the libraries we need to use in this lab\n",
        "from __future__ import print_function\n",
        "import numpy as np\n",
        "import pandas as pd\n",
        "import matplotlib.pyplot as plt\n",
        "%matplotlib inline\n",
        "from sklearn.model_selection import train_test_split\n",
        "from sklearn.preprocessing import normalize, StandardScaler, MinMaxScaler\n",
        "from sklearn.utils.class_weight import compute_sample_weight\n",
        "from sklearn.metrics import mean_squared_error\n",
        "import time\n",
        "import warnings\n",
        "import gc, sys\n",
        "warnings.filterwarnings('ignore')"
      ],
      "execution_count": null
    },
    {
      "cell_type": "markdown",
      "metadata": {
        "id": "b4058009-4b39-48ad-8bc8-c39f16e0f57f"
      },
      "source": [
        "<div id=\"dataset_analysis\">\n",
        "    <h2>Dataset Analysis</h2>\n",
        "</div>\n"
      ]
    },
    {
      "cell_type": "markdown",
      "metadata": {
        "id": "fc7a3459-c5e8-4aa7-9957-277f5b9fde7b"
      },
      "source": [
        "In this section you will read the dataset in a Pandas dataframe and visualize its content. You will also look at some data statistics.\n",
        "\n",
        "Note: A Pandas dataframe is a two-dimensional, size-mutable, potentially heterogeneous tabular data structure. For more information: https://pandas.pydata.org/docs/reference/api/pandas.DataFrame.html.\n"
      ]
    },
    {
      "cell_type": "code",
      "metadata": {
        "id": "9a305f6b-c5eb-4fee-a8ed-1cc516f6ef2e"
      },
      "outputs": [],
      "source": [
        "# read the input data\n",
        "raw_data = pd.read_csv('yellow_tripdata_2019-06.csv')\n",
        "print(\"There are \" + str(len(raw_data)) + \" observations in the dataset.\")\n",
        "print(\"There are \" + str(len(raw_data.columns)) + \" variables in the dataset.\")\n",
        "\n",
        "# display first rows in the dataset\n",
        "raw_data.head()"
      ],
      "execution_count": null
    },
    {
      "cell_type": "code",
      "metadata": {
        "id": "8b0f0c52-4dac-4c28-8035-605d904404bd"
      },
      "outputs": [],
      "source": [
        "#Reducing the data size to 100000 records\n",
        "raw_data=raw_data.head(100000)"
      ],
      "execution_count": null
    },
    {
      "cell_type": "markdown",
      "metadata": {
        "id": "68d3f8fa-5db1-45f6-a4ea-95560e151717"
      },
      "source": [
        "Each row in the dataset represents a taxi trip. As shown above, each row has 18 variables. One variable is called tip_amount and represents the target variable. Your objective will be to train a model that uses the other variables to predict the value of the tip_amount variable. Let's first clean the dataset and retrieve basic statistics about the target variable.\n"
      ]
    },
    {
      "cell_type": "code",
      "metadata": {
        "id": "a3d033bb-7743-4b12-af09-3ad3182958f6"
      },
      "outputs": [],
      "source": [
        "# some trips report 0 tip. it is assumed that these tips were paid in cash.\n",
        "# for this study we drop all these rows\n",
        "raw_data = raw_data[raw_data['tip_amount'] > 0]\n",
        "\n",
        "# we also remove some outliers, namely those where the tip was larger than the fare cost\n",
        "raw_data = raw_data[(raw_data['tip_amount'] <= raw_data['fare_amount'])]\n",
        "\n",
        "# we remove trips with very large fare cost\n",
        "raw_data = raw_data[((raw_data['fare_amount'] >=2) & (raw_data['fare_amount'] < 200))]\n",
        "\n",
        "# we drop variables that include the target variable in it, namely the total_amount\n",
        "clean_data = raw_data.drop(['total_amount'], axis=1)\n",
        "\n",
        "# release memory occupied by raw_data as we do not need it anymore\n",
        "# we are dealing with a large dataset, thus we need to make sure we do not run out of memory\n",
        "del raw_data\n",
        "gc.collect()\n",
        "\n",
        "# print the number of trips left in the dataset\n",
        "print(\"There are \" + str(len(clean_data)) + \" observations in the dataset.\")\n",
        "print(\"There are \" + str(len(clean_data.columns)) + \" variables in the dataset.\")\n",
        "\n",
        "plt.hist(clean_data.tip_amount.values, 16, histtype='bar', facecolor='g')\n",
        "plt.show()\n",
        "\n",
        "print(\"Minimum amount value is \", np.min(clean_data.tip_amount.values))\n",
        "print(\"Maximum amount value is \", np.max(clean_data.tip_amount.values))\n",
        "print(\"90% of the trips have a tip amount less or equal than \", np.percentile(clean_data.tip_amount.values, 90))"
      ],
      "execution_count": null
    },
    {
      "cell_type": "code",
      "metadata": {
        "id": "386f9645-7caf-473f-9f6d-214be552ae63"
      },
      "outputs": [],
      "source": [
        "# display first rows in the dataset\n",
        "clean_data.head()"
      ],
      "execution_count": null
    },
    {
      "cell_type": "markdown",
      "metadata": {
        "id": "1700fbc7-d701-4094-aad8-3acc66a6bf2a"
      },
      "source": [
        "By looking at the dataset in more detail, we see that it contains information such as pick-up and drop-off dates/times, pick-up and drop-off locations, payment types, driver-reported passenger counts etc. Before actually training a ML model, we will need to preprocess the data. We need to transform the data in a format that will be correctly handled by the models. For instance, we need to encode the categorical features.\n"
      ]
    },
    {
      "cell_type": "markdown",
      "metadata": {
        "id": "a21b6b18-c18c-4a6f-a2a1-f53d604831f3"
      },
      "source": [
        "<div id=\"dataset_preprocessing\">\n",
        "    <h2>Dataset Preprocessing</h2>\n",
        "</div>\n"
      ]
    },
    {
      "cell_type": "markdown",
      "metadata": {
        "id": "2b8ff75d-f816-4dc2-aafc-0920ad063357"
      },
      "source": [
        "In this subsection you will prepare the data for training.\n"
      ]
    },
    {
      "cell_type": "code",
      "metadata": {
        "id": "c4e1066f-682c-4b64-85fd-255686044977"
      },
      "outputs": [],
      "source": [
        "clean_data['tpep_dropoff_datetime'] = pd.to_datetime(clean_data['tpep_dropoff_datetime'])\n",
        "clean_data['tpep_pickup_datetime'] = pd.to_datetime(clean_data['tpep_pickup_datetime'])\n",
        "\n",
        "# extract pickup and dropoff hour\n",
        "clean_data['pickup_hour'] = clean_data['tpep_pickup_datetime'].dt.hour\n",
        "clean_data['dropoff_hour'] = clean_data['tpep_dropoff_datetime'].dt.hour\n",
        "\n",
        "# extract pickup and dropoff day of week\n",
        "clean_data['pickup_day'] = clean_data['tpep_pickup_datetime'].dt.weekday\n",
        "clean_data['dropoff_day'] = clean_data['tpep_dropoff_datetime'].dt.weekday\n",
        "\n",
        "# compute trip time in minutes\n",
        "clean_data['trip_time'] = (clean_data['tpep_dropoff_datetime'] - clean_data['tpep_pickup_datetime']).astype('timedelta64[m]')\n",
        "\n",
        "# ideally use the full dataset for this exercise\n",
        "# however if you run into out of memory issues due to the data size, reduce it\n",
        "# for instance, in this example we use only the first 1M samples\n",
        "first_n_rows = 1000000\n",
        "clean_data = clean_data.head(first_n_rows)"
      ],
      "execution_count": null
    },
    {
      "cell_type": "code",
      "metadata": {
        "id": "0ac543e6-29b7-468f-a38e-dde4ac770faa"
      },
      "outputs": [],
      "source": [
        "# drop the pickup and dropoff datetimes\n",
        "clean_data = clean_data.drop(['tpep_pickup_datetime', 'tpep_dropoff_datetime'], axis=1)\n",
        "\n",
        "# some features are categorical, we need to encode them\n",
        "# to encode them we use one-hot encoding from the Pandas package\n",
        "get_dummy_col = [\"VendorID\",\"RatecodeID\",\"store_and_fwd_flag\",\"PULocationID\", \"DOLocationID\",\"payment_type\", \"pickup_hour\", \"dropoff_hour\", \"pickup_day\", \"dropoff_day\"]\n",
        "proc_data = pd.get_dummies(clean_data, columns = get_dummy_col)\n",
        "\n",
        "# release memory occupied by clean_data as we do not need it anymore\n",
        "# we are dealing with a large dataset, thus we need to make sure we do not run out of memory\n",
        "del clean_data\n",
        "gc.collect()"
      ],
      "execution_count": null
    },
    {
      "cell_type": "code",
      "metadata": {
        "id": "1c758184-78d1-4231-9e41-ffaa1cded372"
      },
      "outputs": [],
      "source": [
        "# extract the labels from the dataframe\n",
        "y = proc_data[['tip_amount']].values.astype('float32')\n",
        "\n",
        "# drop the target variable from the feature matrix\n",
        "proc_data = proc_data.drop(['tip_amount'], axis=1)\n",
        "\n",
        "# get the feature matrix used for training\n",
        "X = proc_data.values\n",
        "\n",
        "# normalize the feature matrix\n",
        "X = normalize(X, axis=1, norm='l1', copy=False)\n",
        "\n",
        "# print the shape of the features matrix and the labels vector\n",
        "print('X.shape=', X.shape, 'y.shape=', y.shape)"
      ],
      "execution_count": null
    },
    {
      "cell_type": "markdown",
      "metadata": {
        "id": "9f7b00b7-2322-4f47-bc44-d9760157f5d5"
      },
      "source": [
        "<div id=\"dataset_split\">\n",
        "    <h2>Dataset Train/Test Split</h2>\n",
        "</div>\n"
      ]
    },
    {
      "cell_type": "markdown",
      "metadata": {
        "id": "8aacb94e-09a5-4336-bddf-463215a5e1a7"
      },
      "source": [
        "Now that the dataset is ready for building the classification models, you need to first divide the pre-processed dataset into a subset to be used for training the model (the train set) and a subset to be used for evaluating the quality of the model (the test set).\n"
      ]
    },
    {
      "cell_type": "code",
      "metadata": {
        "id": "9b908278-90ce-49ca-b11e-e07b135dd584"
      },
      "outputs": [],
      "source": [
        "X_train, X_test, y_train, y_test = train_test_split(X, y, test_size=0.3, random_state=42)\n",
        "print('X_train.shape=', X_train.shape, 'Y_train.shape=', y_train.shape)\n",
        "print('X_test.shape=', X_test.shape, 'Y_test.shape=', y_test.shape)"
      ],
      "execution_count": null
    },
    {
      "cell_type": "markdown",
      "metadata": {
        "id": "ba691fd3-6f65-46de-9872-4d397be229b4"
      },
      "source": [
        "<div id=\"dt_sklearn\">\n",
        "    <h2>Build a Decision Tree Regressor model with Scikit-Learn</h2>\n",
        "</div>\n"
      ]
    },
    {
      "cell_type": "code",
      "metadata": {
        "id": "75bc8533-6065-4bf6-8b41-e3c004729b9d"
      },
      "outputs": [],
      "source": [
        "# import the Decision Tree Regression Model from scikit-learn\n",
        "from sklearn.tree import DecisionTreeRegressor\n",
        "\n",
        "# for reproducible output across multiple function calls, set random_state to a given integer value\n",
        "sklearn_dt = DecisionTreeRegressor(max_depth=8, random_state=35)\n",
        "\n",
        "# train a Decision Tree Regressor using scikit-learn\n",
        "t0 = time.time()\n",
        "sklearn_dt.fit(X_train, y_train)\n",
        "sklearn_time = time.time()-t0\n",
        "print(\"[Scikit-Learn] Training time (s):  {0:.5f}\".format(sklearn_time))"
      ],
      "execution_count": null
    },
    {
      "cell_type": "markdown",
      "metadata": {
        "id": "db6e198b-7856-46a7-b0c8-74a391c1f730"
      },
      "source": [
        "<div id=\"dt_snapml\">\n",
        "    <h2>Build a Decision Tree Regressor model with Snap ML</h2>\n",
        "</div>\n"
      ]
    },
    {
      "cell_type": "code",
      "metadata": {
        "id": "dc04c0b8-f11f-48b6-b708-d341da044552"
      },
      "outputs": [],
      "source": [
        "# import the Decision Tree Regressor Model from Snap ML\n",
        "from snapml import DecisionTreeRegressor\n",
        "\n",
        "# in contrast to sklearn's Decision Tree, Snap ML offers multi-threaded CPU/GPU training\n",
        "# to use the GPU, one needs to set the use_gpu parameter to True\n",
        "# snapml_dt = DecisionTreeRegressor(max_depth=4, random_state=45, use_gpu=True)\n",
        "\n",
        "# to set the number of CPU threads used at training time, one needs to set the n_jobs parameter\n",
        "# for reproducible output across multiple function calls, set random_state to a given integer value\n",
        "snapml_dt = DecisionTreeRegressor(max_depth=8, random_state=45, n_jobs=4)\n",
        "\n",
        "# train a Decision Tree Regressor model using Snap ML\n",
        "t0 = time.time()\n",
        "snapml_dt.fit(X_train, y_train)\n",
        "snapml_time = time.time()-t0\n",
        "print(\"[Snap ML] Training time (s):  {0:.5f}\".format(snapml_time))"
      ],
      "execution_count": null
    },
    {
      "cell_type": "markdown",
      "metadata": {
        "id": "bcb06001-5cd0-4912-b6c2-06ad5b021c3b"
      },
      "source": [
        "<div id=\"dt_sklearn_snapml\">\n",
        "    <h2>Evaluate the Scikit-Learn and Snap ML Decision Tree Regressor Models</h2>\n",
        "</div>\n"
      ]
    },
    {
      "cell_type": "code",
      "metadata": {
        "id": "741c0a87-3548-4521-8795-53ba333602e4"
      },
      "outputs": [],
      "source": [
        "# Snap ML vs Scikit-Learn training speedup\n",
        "training_speedup = sklearn_time/snapml_time\n",
        "print('[Decision Tree Regressor] Snap ML vs. Scikit-Learn speedup : {0:.2f}x '.format(training_speedup))\n",
        "\n",
        "# run inference using the sklearn model\n",
        "sklearn_pred = sklearn_dt.predict(X_test)\n",
        "\n",
        "# evaluate mean squared error on the test dataset\n",
        "sklearn_mse = mean_squared_error(y_test, sklearn_pred)\n",
        "print('[Scikit-Learn] MSE score : {0:.3f}'.format(sklearn_mse))\n",
        "\n",
        "# run inference using the Snap ML model\n",
        "snapml_pred = snapml_dt.predict(X_test)\n",
        "\n",
        "# evaluate mean squared error on the test dataset\n",
        "snapml_mse = mean_squared_error(y_test, snapml_pred)\n",
        "print('[Snap ML] MSE score : {0:.3f}'.format(snapml_mse))"
      ],
      "execution_count": null
    },
    {
      "cell_type": "markdown",
      "metadata": {
        "id": "bba13c08-9c01-4130-a49e-29df844945d3"
      },
      "source": [
        "As shown above both decision tree models provide the same score on the test dataset. However Snap ML runs the training routine faster than Scikit-Learn. This is one of the advantages of using Snap ML: acceleration of training of classical machine learning models, such as linear and tree-based models. For more Snap ML examples, please visit [snapml-examples](https://ibm.biz/BdPfxP). Moreover, as shown above, not only is Snap ML seemlessly accelerating scikit-learn applications, but the library's Python API is also compatible with scikit-learn metrics and data preprocessors.\n"
      ]
    },
    {
      "cell_type": "markdown",
      "metadata": {
        "id": "c4d1f91d-9bd5-44c7-a35e-2490116c06da"
      },
      "source": [
        "## Authors\n"
      ]
    },
    {
      "cell_type": "markdown",
      "metadata": {
        "id": "88a393c0-635b-4c67-bc92-3ef19bec509e"
      },
      "source": [
        "Andreea Anghel\n"
      ]
    },
    {
      "cell_type": "markdown",
      "metadata": {
        "id": "f91c6fea-9776-43dc-ade8-5f6ce7480f6c"
      },
      "source": [
        "### Other Contributors\n"
      ]
    },
    {
      "cell_type": "markdown",
      "metadata": {
        "id": "78a7e364-8ed8-4cf0-bd9b-d65cbe1180a6"
      },
      "source": [
        "Sangeeth Keeriyadath\n",
        "\n",
        "Joseph Santarcangelo\n"
      ]
    },
    {
      "cell_type": "markdown",
      "metadata": {
        "id": "71f6d8b4-51d9-4ec6-9047-62269377772a"
      },
      "source": [
        "## Change Log\n"
      ]
    },
    {
      "cell_type": "markdown",
      "metadata": {
        "id": "7f373b7e-7db2-4eb0-aa8a-992d376f2556"
      },
      "source": [
        "|  Date (YYYY-MM-DD) |  Version | Changed By  |  Change Description |\n",
        "|---|---|---|---|\n",
        "| 2021-08-31  | 0.1  | AAN  |  Created Lab Content |\n",
        "| 2023-01-24  | 0.2  | Anita Verma  |  Reduced data size|\n"
      ]
    },
    {
      "cell_type": "markdown",
      "metadata": {
        "id": "5cf2dfa5-e74d-441a-b816-7b2d233b940e"
      },
      "source": [
        " Copyright &copy; 2021 IBM Corporation. This notebook and its source code are released under the terms of the [MIT License](https://cognitiveclass.ai/mit-license/).\n"
      ]
    }
  ],
  "metadata": {
    "kernelspec": {
      "display_name": "Python",
      "language": "python",
      "name": "conda-env-python-py"
    },
    "language_info": {
      "name": ""
    },
    "colab": {
      "provenance": [],
      "include_colab_link": true
    }
  },
  "nbformat": 4,
  "nbformat_minor": 0
}